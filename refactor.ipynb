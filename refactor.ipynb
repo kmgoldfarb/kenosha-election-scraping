{
 "cells": [
  {
   "cell_type": "code",
   "execution_count": 59,
   "metadata": {},
   "outputs": [],
   "source": [
    "import requests\n",
    "import pandas as pd\n",
    "import time\n",
    "from bs4 import BeautifulSoup\n",
    "from datetime import datetime"
   ]
  },
  {
   "cell_type": "code",
   "execution_count": 60,
   "metadata": {},
   "outputs": [],
   "source": [
    "ELECTION_ID = 63\n",
    "MUNICIPALITY_DICT = {}\n",
    "DATAFRAME_LIST = []\n",
    "\n",
    "def get_municipalities():\n",
    "    response = requests.get(f'https://apps.kenoshacounty.org/ElectionResults_v2/Municipality.aspx?eid={ELECTION_ID}&muniName=City of Kenosha&p=0')\n",
    "    soup = BeautifulSoup(response.text, 'html.parser')\n",
    "    options = soup.select('select[name=\"ddMunis\"] option')\n",
    "    values = [option.get('value') for option in options if option.get('value')]\n",
    "    return values[1:] # Removes the -1 placeholder value\n",
    "\n",
    "\n",
    "def get_ward_name(soup):\n",
    "    \"\"\"\n",
    "    Extracts the ward name from the selected option in the ddReportingUnits select element\n",
    "    \"\"\"\n",
    "    try:\n",
    "        # Find the select element with name=\"ddReportingUnits\"\n",
    "        select = soup.find('select', {'name': 'ddReportingUnits'})\n",
    "        if select:\n",
    "            # Find the selected option within this select\n",
    "            selected_option = select.find('option', selected=\"selected\")\n",
    "            if selected_option:\n",
    "                return selected_option.text.strip()\n",
    "        print(\"Warning: Could not find selected ward name in ddReportingUnits\")\n",
    "        return \"Unknown Ward\"\n",
    "    except Exception as e:\n",
    "        print(f\"Error getting ward name: {e}\")\n",
    "        return \"Unknown Ward\"\n",
    "\n",
    "\n",
    "def clean_vote_value(value):\n",
    "    \"\"\"\n",
    "    Extracts the numeric vote count from a string containing both votes and percentage\n",
    "    \"\"\"\n",
    "    return value.split('(')[0].strip()\n",
    "\n",
    "\n",
    "def create_municipality_dictionary(muni):\n",
    "    response = requests.get(f'https://apps.kenoshacounty.org/ElectionResults_v2/Municipality.aspx?eid={ELECTION_ID}&muniName={muni}')\n",
    "    soup = BeautifulSoup(response.text, 'html.parser')\n",
    "    options = soup.select('select[name=\"ddReportingUnits\"] option')\n",
    "    values = [option.get('value') for option in options if option.get('value')]\n",
    "    values = values[1:] # Removes the -1 placeholder value\n",
    "    wards = []\n",
    "    for i in values:\n",
    "        wards.append(int(i))\n",
    "    MUNICIPALITY_DICT[muni] = wards \n",
    "\n",
    "\n",
    "def scrape_election_data(muni, ward):\n",
    "    \"\"\"\n",
    "    Scrapes election data from the specified URL, including ward information\n",
    "    \"\"\"\n",
    "    try:\n",
    "        base_url = f'https://apps.kenoshacounty.org/ElectionResults_v2/ReportingUnits.aspx?eid={ELECTION_ID}&jid={ward}&muniName={muni}'\n",
    "        response = requests.get(base_url)\n",
    "        if response.status_code != 200:\n",
    "            print(f\"Failed to retrieve data for ward. Status code: {response.status_code}\")\n",
    "            return None\n",
    "            \n",
    "        soup = BeautifulSoup(response.text, 'html.parser')\n",
    "        ward_name = get_ward_name(soup)\n",
    "\n",
    "        contest_boxes = soup.find_all('div', class_='contestBox')\n",
    "\n",
    "        all_data = []\n",
    "        \n",
    "        for contest_box in contest_boxes:\n",
    "            contest_header = contest_box.find('h1')\n",
    "            if not contest_header:\n",
    "                continue\n",
    "                \n",
    "            contest_name = contest_header.text.strip()\n",
    "            \n",
    "            table = contest_box.find('table', class_='resultTable')\n",
    "            if not table:\n",
    "                continue\n",
    "            \n",
    "            candidate_rows = table.find_all('td', class_='candtd')\n",
    "            \n",
    "            for candidate_td in candidate_rows:\n",
    "                candidate_name = candidate_td.text.strip()\n",
    "                row = candidate_td.parent\n",
    "                if row:\n",
    "                    all_tds = row.find_all('td')\n",
    "                    cand_index = all_tds.index(candidate_td)\n",
    "                    if cand_index + 1 < len(all_tds):\n",
    "                        value_td = all_tds[cand_index + 1]\n",
    "                        clean_value = clean_vote_value(value_td.text.strip())\n",
    "                        \n",
    "                        all_data.append({\n",
    "                            'Municipality': muni,\n",
    "                            'Ward_Name': ward_name,\n",
    "                            'Ward_Number': ward_name.split(' ')[1].strip(),\n",
    "                            'Contest': contest_name,\n",
    "                            'Candidate': candidate_name,\n",
    "                            'Votes': clean_value\n",
    "                        })\n",
    "        \n",
    "        if not all_data:\n",
    "            print(f\"No data found for ward {ward_name}\")\n",
    "            return None\n",
    "            \n",
    "        df = pd.DataFrame(all_data)\n",
    "        DATAFRAME_LIST.append(df)\n",
    "\n",
    "        \n",
    "    except Exception as e:\n",
    "        print(f\"Error processing ward {ward_number}: {str(e)}\")\n",
    "        return None"
   ]
  },
  {
   "cell_type": "code",
   "execution_count": 61,
   "metadata": {},
   "outputs": [
    {
     "name": "stdout",
     "output_type": "stream",
     "text": [
      "{'City of Kenosha': [88, 91, 94, 97, 100, 103, 106, 109, 112, 115, 118, 121, 124, 127, 130, 133, 136, 139, 142, 145, 148, 151, 154, 157, 160, 163, 166, 169, 172, 175, 178, 181, 184, 187, 190, 193, 196, 199, 202, 205, 208, 211, 214, 217, 220, 223, 226, 229, 232, 235, 238, 241, 244, 247, 250, 253, 256, 259, 262, 265, 268, 271, 274, 277, 280, 283, 286, 289, 292, 295, 298, 301, 304, 307, 320, 323, 326, 329, 332, 335, 338, 341, 344, 347, 350, 353, 356, 359, 362, 365, 368, 371, 374, 1658], 'T. Brighton': [16], 'T. Paris': [19], 'T. Randall': [22], 'T. Somers': [25], 'T. Wheatland': [31], 'V. Bristol': [34, 915], 'V. Genoa City': [37], 'V. Paddock Lake': [40], 'V. Pleasant Prairie': [43, 46, 49, 52, 58, 380], 'V. Salem Lakes': [61, 64, 67], 'V. Somers': [70, 73, 76, 79, 2027], 'V. Twin Lakes': [85]}\n"
     ]
    }
   ],
   "source": [
    "munis = get_municipalities()\n",
    "\n",
    "for m in munis:\n",
    "    create_municipality_dictionary(m)\n",
    "    \n",
    "for municipality, wards in MUNICIPALITY_DICT.items():\n",
    "    for ward in wards:\n",
    "        scrape_election_data(municipality, ward)"
   ]
  },
  {
   "cell_type": "code",
   "execution_count": 62,
   "metadata": {},
   "outputs": [
    {
     "name": "stdout",
     "output_type": "stream",
     "text": [
      "\n",
      "Data saved to 'kenosha_election_results_all_wards_20241104_232231.csv'\n"
     ]
    }
   ],
   "source": [
    "results = pd.concat(DATAFRAME_LIST, ignore_index=True)\n",
    "timestamp = datetime.now().strftime('%Y%m%d_%H%M%S')\n",
    "filename = f'kenosha_election_results_all_wards_{timestamp}.csv'\n",
    "results.to_csv(filename, index=False)\n",
    "print(f\"\\nData saved to '{filename}'\")\n",
    "\n",
    "        \n"
   ]
  }
 ],
 "metadata": {
  "kernelspec": {
   "display_name": ".venv",
   "language": "python",
   "name": "python3"
  },
  "language_info": {
   "codemirror_mode": {
    "name": "ipython",
    "version": 3
   },
   "file_extension": ".py",
   "mimetype": "text/x-python",
   "name": "python",
   "nbconvert_exporter": "python",
   "pygments_lexer": "ipython3",
   "version": "3.10.6"
  }
 },
 "nbformat": 4,
 "nbformat_minor": 2
}
